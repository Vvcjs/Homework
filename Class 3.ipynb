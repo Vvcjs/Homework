{
 "cells": [
  {
   "cell_type": "code",
   "execution_count": 3,
   "id": "69c999bc-f6a4-4ae7-8a3c-e57b362e0897",
   "metadata": {},
   "outputs": [
    {
     "name": "stdin",
     "output_type": "stream",
     "text": [
      "please input a name:  ww\n"
     ]
    },
    {
     "name": "stdout",
     "output_type": "stream",
     "text": [
      "100\n"
     ]
    }
   ],
   "source": [
    "names = ['zs', 'ls', 'ww']\n",
    "scores = [90, 80, 100]\n",
    "name = input('please input a name: ')\n",
    "print(scores[names.index(name)])"
   ]
  },
  {
   "cell_type": "code",
   "execution_count": 5,
   "id": "775ce3cc-db68-43a8-96c8-6b26ce5f9d6e",
   "metadata": {},
   "outputs": [
    {
     "name": "stdout",
     "output_type": "stream",
     "text": [
      "zs 42\n"
     ]
    }
   ],
   "source": [
    "d = dict(name = 'zs', age = 42)\n",
    "print(d['name'], d['age'])"
   ]
  },
  {
   "cell_type": "code",
   "execution_count": 7,
   "id": "ead5bcc1-db26-45d4-a1f3-4e80a71ccfb3",
   "metadata": {},
   "outputs": [
    {
     "name": "stdout",
     "output_type": "stream",
     "text": [
      "{'name': None, 'age': None}\n"
     ]
    }
   ],
   "source": [
    "print({}.fromkeys(['name', 'age']))"
   ]
  },
  {
   "cell_type": "code",
   "execution_count": 9,
   "id": "05c2511b-e5f6-4227-a9b1-ef7ca8991576",
   "metadata": {},
   "outputs": [
    {
     "name": "stdout",
     "output_type": "stream",
     "text": [
      "{'name': 0, 'age': 0}\n"
     ]
    }
   ],
   "source": [
    "print({}.fromkeys(['name', 'age'], 0))"
   ]
  },
  {
   "cell_type": "code",
   "execution_count": 7,
   "id": "b6c6c2c3-f2a9-4024-a324-10b578d2439d",
   "metadata": {},
   "outputs": [],
   "source": [
    "text = '''\n",
    "Google today released the open source version of the differential privacy library used in some its core products, such as Google Maps. Any organization or developer can now check out the library on GitHub.\n",
    "\n",
    "Differential privacy limits the algorithms used to publish aggregate information about a statistical database. Whether you are a city planner, small business owner, or software developer, chances are you want to gain insights from the data of your citizens, customers, or users. But you don’t want to lose their trust in the process. Differentially private data analysis enables organizations to learn from the majority of their data without allowing any single individual’s data to be distinguished or re-identified.\n",
    "\n",
    "“If you are a health researcher, you may want to compare the average amount of time patients remain admitted across various hospitals in order to determine if there are differences in care,” Google product manager Miguel Guevara explains. “Differential privacy is a high-assurance, analytic means of ensuring that use cases like this are addressed in a privacy-preserving manner.”\n",
    "Differential privacy library features\n",
    "\n",
    "Google promises its library is easy for developers to deploy. It can help you perform functions that are difficult to execute from scratch, “like automatically calculating bounds on user contributions,” Guevera says. Key features include:\n",
    "\n",
    "    Statistical functions: Most common data science operations (counts, sums, averages, medians, and percentiles) are supported.\n",
    "    Rigorous testing: Besides an extensive test suite, an extensible “Stochastic Differential Privacy Model Checker library” helps prevent mistakes.\n",
    "    Ready to use: A PostgreSQL extension, along with common recipes, is included.\n",
    "    Modular: The library can be extended to include other functionalities, such as additional mechanisms, aggregation functions, or privacy budget management.\n",
    "\n",
    "This isn’t Google’s first differential privacy rodeo, but the company has been particularly busy in the space this year. \n",
    "'''"
   ]
  },
  {
   "cell_type": "code",
   "execution_count": 13,
   "id": "093dc949-2f8d-4b6e-97e0-85ccfa3f181d",
   "metadata": {},
   "outputs": [
    {
     "name": "stdout",
     "output_type": "stream",
     "text": [
      "{'b': 1, 'a': 0}\n"
     ]
    }
   ],
   "source": [
    "d = dict()\n",
    "d['b'] = 1\n",
    "d.setdefault('b', 0)\n",
    "d.setdefault('a', 0)\n",
    "print(d)"
   ]
  },
  {
   "cell_type": "code",
   "execution_count": 1,
   "id": "345649fc-ed4f-4659-b2db-ae476ce3e0c4",
   "metadata": {},
   "outputs": [],
   "source": [
    "#count.setdefault('this', 0)\n",
    "#count['this'] += 1"
   ]
  },
  {
   "cell_type": "code",
   "execution_count": 9,
   "id": "3c2ea5cd-6591-49e4-81ba-b1e8c66a7737",
   "metadata": {},
   "outputs": [
    {
     "name": "stdout",
     "output_type": "stream",
     "text": [
      "['', 'google', 'today', 'released', 'the', 'open', 'source', 'version', 'of', 'the', 'differential', 'privacy', 'library', 'used', 'in', 'some', 'its', 'core', 'products', '', 'such', 'as', 'google', 'maps', '', 'any', 'organization', 'or', 'developer', 'can', 'now', 'check', 'out', 'the', 'library', 'on', 'github', '', '', 'differential', 'privacy', 'limits', 'the', 'algorithms', 'used', 'to', 'publish', 'aggregate', 'information', 'about', 'a', 'statistical', 'database', '', 'whether', 'you', 'are', 'a', 'city', 'planner', '', 'small', 'business', 'owner', '', 'or', 'software', 'developer', '', 'chances', 'are', 'you', 'want', 'to', 'gain', 'insights', 'from', 'the', 'data', 'of', 'your', 'citizens', '', 'customers', '', 'or', 'users', '', 'but', 'you', 'don’t', 'want', 'to', 'lose', 'their', 'trust', 'in', 'the', 'process', '', 'differentially', 'private', 'data', 'analysis', 'enables', 'organizations', 'to', 'learn', 'from', 'the', 'majority', 'of', 'their', 'data', 'without', 'allowing', 'any', 'single', 'individual’s', 'data', 'to', 'be', 'distinguished', 'or', 're', 'identified', '', '', '“if', 'you', 'are', 'a', 'health', 'researcher', '', 'you', 'may', 'want', 'to', 'compare', 'the', 'average', 'amount', 'of', 'time', 'patients', 'remain', 'admitted', 'across', 'various', 'hospitals', 'in', 'order', 'to', 'determine', 'if', 'there', 'are', 'differences', 'in', 'care', '”', 'google', 'product', 'manager', 'miguel', 'guevara', 'explains', '', '“differential', 'privacy', 'is', 'a', 'high', 'assurance', '', 'analytic', 'means', 'of', 'ensuring', 'that', 'use', 'cases', 'like', 'this', 'are', 'addressed', 'in', 'a', 'privacy', 'preserving', 'manner', '”', 'differential', 'privacy', 'library', 'features', '', 'google', 'promises', 'its', 'library', 'is', 'easy', 'for', 'developers', 'to', 'deploy', '', 'it', 'can', 'help', 'you', 'perform', 'functions', 'that', 'are', 'difficult', 'to', 'execute', 'from', 'scratch', '', '“like', 'automatically', 'calculating', 'bounds', 'on', 'user', 'contributions', '”', 'guevera', 'says', '', 'key', 'features', 'include', '', '', '', '', '', '', 'statistical', 'functions', '', 'most', 'common', 'data', 'science', 'operations', '', 'counts', '', 'sums', '', 'averages', '', 'medians', '', 'and', 'percentiles', '', 'are', 'supported', '', '', '', '', '', 'rigorous', 'testing', '', 'besides', 'an', 'extensive', 'test', 'suite', '', 'an', 'extensible', '“stochastic', 'differential', 'privacy', 'model', 'checker', 'library”', 'helps', 'prevent', 'mistakes', '', '', '', '', '', 'ready', 'to', 'use', '', 'a', 'postgresql', 'extension', '', 'along', 'with', 'common', 'recipes', '', 'is', 'included', '', '', '', '', '', 'modular', '', 'the', 'library', 'can', 'be', 'extended', 'to', 'include', 'other', 'functionalities', '', 'such', 'as', 'additional', 'mechanisms', '', 'aggregation', 'functions', '', 'or', 'privacy', 'budget', 'management', '', '', 'this', 'isn’t', 'google’s', 'first', 'differential', 'privacy', 'rodeo', '', 'but', 'the', 'company', 'has', 'been', 'particularly', 'busy', 'in', 'the', 'space', 'this', 'year', '', '', '']\n"
     ]
    }
   ],
   "source": [
    "text = text.lower().replace('\\n', ' ')\n",
    "for sep in '\\n,-\\t.()\\'\\\":;':\n",
    "    text = text.replace(sep, ' ')\n",
    "    \n",
    "words = text.split(' ')\n",
    "print(words)"
   ]
  },
  {
   "cell_type": "code",
   "execution_count": 14,
   "id": "b246af49-fde0-4884-8596-2bfd20094fa9",
   "metadata": {},
   "outputs": [],
   "source": [
    "words.remove('')"
   ]
  },
  {
   "cell_type": "code",
   "execution_count": 16,
   "id": "85931ebc-a541-45ff-b5bc-d19b5b00277f",
   "metadata": {},
   "outputs": [
    {
     "name": "stdout",
     "output_type": "stream",
     "text": [
      "['google', 'today', 'released', 'the', 'open', 'source', 'version', 'of', 'the', 'differential', 'privacy', 'library', 'used', 'in', 'some', 'its', 'core', 'products', 'such', 'as', 'google', 'maps', '', 'any', 'organization', 'or', 'developer', 'can', 'now', 'check', 'out', 'the', 'library', 'on', 'github', '', '', 'differential', 'privacy', 'limits', 'the', 'algorithms', 'used', 'to', 'publish', 'aggregate', 'information', 'about', 'a', 'statistical', 'database', '', 'whether', 'you', 'are', 'a', 'city', 'planner', '', 'small', 'business', 'owner', '', 'or', 'software', 'developer', '', 'chances', 'are', 'you', 'want', 'to', 'gain', 'insights', 'from', 'the', 'data', 'of', 'your', 'citizens', '', 'customers', '', 'or', 'users', '', 'but', 'you', 'don’t', 'want', 'to', 'lose', 'their', 'trust', 'in', 'the', 'process', '', 'differentially', 'private', 'data', 'analysis', 'enables', 'organizations', 'to', 'learn', 'from', 'the', 'majority', 'of', 'their', 'data', 'without', 'allowing', 'any', 'single', 'individual’s', 'data', 'to', 'be', 'distinguished', 'or', 're', 'identified', '', '', '“if', 'you', 'are', 'a', 'health', 'researcher', '', 'you', 'may', 'want', 'to', 'compare', 'the', 'average', 'amount', 'of', 'time', 'patients', 'remain', 'admitted', 'across', 'various', 'hospitals', 'in', 'order', 'to', 'determine', 'if', 'there', 'are', 'differences', 'in', 'care', '”', 'google', 'product', 'manager', 'miguel', 'guevara', 'explains', '', '“differential', 'privacy', 'is', 'a', 'high', 'assurance', '', 'analytic', 'means', 'of', 'ensuring', 'that', 'use', 'cases', 'like', 'this', 'are', 'addressed', 'in', 'a', 'privacy', 'preserving', 'manner', '”', 'differential', 'privacy', 'library', 'features', '', 'google', 'promises', 'its', 'library', 'is', 'easy', 'for', 'developers', 'to', 'deploy', '', 'it', 'can', 'help', 'you', 'perform', 'functions', 'that', 'are', 'difficult', 'to', 'execute', 'from', 'scratch', '', '“like', 'automatically', 'calculating', 'bounds', 'on', 'user', 'contributions', '”', 'guevera', 'says', '', 'key', 'features', 'include', '', '', '', '', '', '', 'statistical', 'functions', '', 'most', 'common', 'data', 'science', 'operations', '', 'counts', '', 'sums', '', 'averages', '', 'medians', '', 'and', 'percentiles', '', 'are', 'supported', '', '', '', '', '', 'rigorous', 'testing', '', 'besides', 'an', 'extensive', 'test', 'suite', '', 'an', 'extensible', '“stochastic', 'differential', 'privacy', 'model', 'checker', 'library”', 'helps', 'prevent', 'mistakes', '', '', '', '', '', 'ready', 'to', 'use', '', 'a', 'postgresql', 'extension', '', 'along', 'with', 'common', 'recipes', '', 'is', 'included', '', '', '', '', '', 'modular', '', 'the', 'library', 'can', 'be', 'extended', 'to', 'include', 'other', 'functionalities', '', 'such', 'as', 'additional', 'mechanisms', '', 'aggregation', 'functions', '', 'or', 'privacy', 'budget', 'management', '', '', 'this', 'isn’t', 'google’s', 'first', 'differential', 'privacy', 'rodeo', '', 'but', 'the', 'company', 'has', 'been', 'particularly', 'busy', 'in', 'the', 'space', 'this', 'year', '', '', '']\n"
     ]
    }
   ],
   "source": [
    "print(words)"
   ]
  },
  {
   "cell_type": "code",
   "execution_count": 18,
   "id": "5cab7663-bf26-43ad-888e-9467c2d7b79a",
   "metadata": {},
   "outputs": [],
   "source": [
    "try:\n",
    "    while True: words.remove('')\n",
    "except:\n",
    "    pass"
   ]
  },
  {
   "cell_type": "code",
   "execution_count": 20,
   "id": "64c40c48-1708-400d-a936-a7dcc1999728",
   "metadata": {},
   "outputs": [
    {
     "name": "stdout",
     "output_type": "stream",
     "text": [
      "{'google': 4, 'today': 1, 'released': 1, 'the': 11, 'open': 1, 'source': 1, 'version': 1, 'of': 5, 'differential': 5, 'privacy': 8, 'library': 5, 'used': 2, 'in': 6, 'some': 1, 'its': 2, 'core': 1, 'products': 1, 'such': 2, 'as': 2, 'maps': 1, 'any': 2, 'organization': 1, 'or': 5, 'developer': 2, 'can': 3, 'now': 1, 'check': 1, 'out': 1, 'on': 2, 'github': 1, 'limits': 1, 'algorithms': 1, 'to': 11, 'publish': 1, 'aggregate': 1, 'information': 1, 'about': 1, 'a': 6, 'statistical': 2, 'database': 1, 'whether': 1, 'you': 6, 'are': 7, 'city': 1, 'planner': 1, 'small': 1, 'business': 1, 'owner': 1, 'software': 1, 'chances': 1, 'want': 3, 'gain': 1, 'insights': 1, 'from': 3, 'data': 5, 'your': 1, 'citizens': 1, 'customers': 1, 'users': 1, 'but': 2, 'don’t': 1, 'lose': 1, 'their': 2, 'trust': 1, 'process': 1, 'differentially': 1, 'private': 1, 'analysis': 1, 'enables': 1, 'organizations': 1, 'learn': 1, 'majority': 1, 'without': 1, 'allowing': 1, 'single': 1, 'individual’s': 1, 'be': 2, 'distinguished': 1, 're': 1, 'identified': 1, '“if': 1, 'health': 1, 'researcher': 1, 'may': 1, 'compare': 1, 'average': 1, 'amount': 1, 'time': 1, 'patients': 1, 'remain': 1, 'admitted': 1, 'across': 1, 'various': 1, 'hospitals': 1, 'order': 1, 'determine': 1, 'if': 1, 'there': 1, 'differences': 1, 'care': 1, '”': 3, 'product': 1, 'manager': 1, 'miguel': 1, 'guevara': 1, 'explains': 1, '“differential': 1, 'is': 3, 'high': 1, 'assurance': 1, 'analytic': 1, 'means': 1, 'ensuring': 1, 'that': 2, 'use': 2, 'cases': 1, 'like': 1, 'this': 3, 'addressed': 1, 'preserving': 1, 'manner': 1, 'features': 2, 'promises': 1, 'easy': 1, 'for': 1, 'developers': 1, 'deploy': 1, 'it': 1, 'help': 1, 'perform': 1, 'functions': 3, 'difficult': 1, 'execute': 1, 'scratch': 1, '“like': 1, 'automatically': 1, 'calculating': 1, 'bounds': 1, 'user': 1, 'contributions': 1, 'guevera': 1, 'says': 1, 'key': 1, 'include': 2, 'most': 1, 'common': 2, 'science': 1, 'operations': 1, 'counts': 1, 'sums': 1, 'averages': 1, 'medians': 1, 'and': 1, 'percentiles': 1, 'supported': 1, 'rigorous': 1, 'testing': 1, 'besides': 1, 'an': 2, 'extensive': 1, 'test': 1, 'suite': 1, 'extensible': 1, '“stochastic': 1, 'model': 1, 'checker': 1, 'library”': 1, 'helps': 1, 'prevent': 1, 'mistakes': 1, 'ready': 1, 'postgresql': 1, 'extension': 1, 'along': 1, 'with': 1, 'recipes': 1, 'included': 1, 'modular': 1, 'extended': 1, 'other': 1, 'functionalities': 1, 'additional': 1, 'mechanisms': 1, 'aggregation': 1, 'budget': 1, 'management': 1, 'isn’t': 1, 'google’s': 1, 'first': 1, 'rodeo': 1, 'company': 1, 'has': 1, 'been': 1, 'particularly': 1, 'busy': 1, 'space': 1, 'year': 1}\n"
     ]
    }
   ],
   "source": [
    "count = dict()\n",
    "for word in words:\n",
    "    count.setdefault(word, 0)\n",
    "    count[word] += 1\n",
    "print(count)"
   ]
  },
  {
   "cell_type": "code",
   "execution_count": 22,
   "id": "ccd9e369-cbb6-4141-b17e-f1bf9308ac9f",
   "metadata": {},
   "outputs": [
    {
     "name": "stdout",
     "output_type": "stream",
     "text": [
      "{4: ['google'], 1: ['today', 'released', 'open', 'source', 'version', 'some', 'core', 'products', 'maps', 'organization', 'now', 'check', 'out', 'github', 'limits', 'algorithms', 'publish', 'aggregate', 'information', 'about', 'database', 'whether', 'city', 'planner', 'small', 'business', 'owner', 'software', 'chances', 'gain', 'insights', 'your', 'citizens', 'customers', 'users', 'don’t', 'lose', 'trust', 'process', 'differentially', 'private', 'analysis', 'enables', 'organizations', 'learn', 'majority', 'without', 'allowing', 'single', 'individual’s', 'distinguished', 're', 'identified', '“if', 'health', 'researcher', 'may', 'compare', 'average', 'amount', 'time', 'patients', 'remain', 'admitted', 'across', 'various', 'hospitals', 'order', 'determine', 'if', 'there', 'differences', 'care', 'product', 'manager', 'miguel', 'guevara', 'explains', '“differential', 'high', 'assurance', 'analytic', 'means', 'ensuring', 'cases', 'like', 'addressed', 'preserving', 'manner', 'promises', 'easy', 'for', 'developers', 'deploy', 'it', 'help', 'perform', 'difficult', 'execute', 'scratch', '“like', 'automatically', 'calculating', 'bounds', 'user', 'contributions', 'guevera', 'says', 'key', 'most', 'science', 'operations', 'counts', 'sums', 'averages', 'medians', 'and', 'percentiles', 'supported', 'rigorous', 'testing', 'besides', 'extensive', 'test', 'suite', 'extensible', '“stochastic', 'model', 'checker', 'library”', 'helps', 'prevent', 'mistakes', 'ready', 'postgresql', 'extension', 'along', 'with', 'recipes', 'included', 'modular', 'extended', 'other', 'functionalities', 'additional', 'mechanisms', 'aggregation', 'budget', 'management', 'isn’t', 'google’s', 'first', 'rodeo', 'company', 'has', 'been', 'particularly', 'busy', 'space', 'year'], 11: ['the', 'to'], 5: ['of', 'differential', 'library', 'or', 'data'], 8: ['privacy'], 2: ['used', 'its', 'such', 'as', 'any', 'developer', 'on', 'statistical', 'but', 'their', 'be', 'that', 'use', 'features', 'include', 'common', 'an'], 6: ['in', 'a', 'you'], 3: ['can', 'want', 'from', '”', 'is', 'this', 'functions'], 7: ['are']}\n"
     ]
    }
   ],
   "source": [
    "words_by_count = dict()\n",
    "for word in count.keys():\n",
    "    words_by_count.setdefault(count[word], [])\n",
    "    words_by_count[count[word]].append(word)\n",
    "print(words_by_count)"
   ]
  },
  {
   "cell_type": "code",
   "execution_count": 24,
   "id": "64262f55-33d2-477c-b380-88a006f98561",
   "metadata": {},
   "outputs": [
    {
     "data": {
      "text/plain": [
       "dict_keys([4, 1, 11, 5, 8, 2, 6, 3, 7])"
      ]
     },
     "execution_count": 24,
     "metadata": {},
     "output_type": "execute_result"
    }
   ],
   "source": [
    "words_by_count.keys()"
   ]
  },
  {
   "cell_type": "code",
   "execution_count": 26,
   "id": "decdc697-01ea-412e-befd-423dbae7d274",
   "metadata": {},
   "outputs": [
    {
     "name": "stdout",
     "output_type": "stream",
     "text": [
      "count 11: the to \n",
      "count 8: privacy \n",
      "count 7: are \n",
      "count 6: in a you \n",
      "count 5: of differential library or data \n",
      "count 4: google \n",
      "count 3: can want from ” is this functions \n",
      "count 2: used its such as any developer on statistical but their be that use features include common an \n",
      "count 1: today released open source version some core products maps organization now check out github limits algorithms publish aggregate information about database whether city planner small business owner software chances gain insights your citizens customers users don’t lose trust process differentially private analysis enables organizations learn majority without allowing single individual’s distinguished re identified “if health researcher may compare average amount time patients remain admitted across various hospitals order determine if there differences care product manager miguel guevara explains “differential high assurance analytic means ensuring cases like addressed preserving manner promises easy for developers deploy it help perform difficult execute scratch “like automatically calculating bounds user contributions guevera says key most science operations counts sums averages medians and percentiles supported rigorous testing besides extensive test suite extensible “stochastic model checker library” helps prevent mistakes ready postgresql extension along with recipes included modular extended other functionalities additional mechanisms aggregation budget management isn’t google’s first rodeo company has been particularly busy space year \n"
     ]
    }
   ],
   "source": [
    "for item in sorted(words_by_count.keys(), reverse=True):\n",
    "    print(f'count {item}:', end=' ')\n",
    "    for word in words_by_count[item]:\n",
    "        print(word, end=' ')\n",
    "    print('')"
   ]
  },
  {
   "cell_type": "code",
   "execution_count": 28,
   "id": "2a9a142a-c872-44ce-adfc-b51dfc70dd32",
   "metadata": {},
   "outputs": [
    {
     "data": {
      "image/png": "[encoded data removed]",
      "text/plain": [
       "<Figure size 1000x1000 with 1 Axes>"
      ]
     },
     "metadata": {},
     "output_type": "display_data"
    }
   ],
   "source": [
    "import matplotlib.pyplot as plt\n",
    "fig = plt.figure(figsize=(10, 10))\n",
    "ax = fig.subplots()\n",
    "names = ['x', 'y', 'z']\n",
    "value = [10, 20, 30]\n",
    "plt.bar(names, value)\n",
    "plt.show()"
   ]
  },
  {
   "cell_type": "code",
   "execution_count": 30,
   "id": "d76ad33a-9cf3-4f0f-9bbc-29c4b13b68fd",
   "metadata": {},
   "outputs": [],
   "source": [
    "counts = []\n",
    "words = []\n",
    "\n",
    "for item in sorted(words_by_count.keys()):\n",
    "    for word in words_by_count[item]:\n",
    "        words.append(word)\n",
    "        counts.append(item)"
   ]
  },
  {
   "cell_type": "code",
   "execution_count": 32,
   "id": "4fce44b1-8c69-42da-a949-ae9de00bdc66",
   "metadata": {},
   "outputs": [
    {
     "name": "stdout",
     "output_type": "stream",
     "text": [
      "['today', 'released', 'open', 'source', 'version', 'some', 'core', 'products', 'maps', 'organization', 'now', 'check', 'out', 'github', 'limits', 'algorithms', 'publish', 'aggregate', 'information', 'about', 'database', 'whether', 'city', 'planner', 'small', 'business', 'owner', 'software', 'chances', 'gain', 'insights', 'your', 'citizens', 'customers', 'users', 'don’t', 'lose', 'trust', 'process', 'differentially', 'private', 'analysis', 'enables', 'organizations', 'learn', 'majority', 'without', 'allowing', 'single', 'individual’s', 'distinguished', 're', 'identified', '“if', 'health', 'researcher', 'may', 'compare', 'average', 'amount', 'time', 'patients', 'remain', 'admitted', 'across', 'various', 'hospitals', 'order', 'determine', 'if', 'there', 'differences', 'care', 'product', 'manager', 'miguel', 'guevara', 'explains', '“differential', 'high', 'assurance', 'analytic', 'means', 'ensuring', 'cases', 'like', 'addressed', 'preserving', 'manner', 'promises', 'easy', 'for', 'developers', 'deploy', 'it', 'help', 'perform', 'difficult', 'execute', 'scratch', '“like', 'automatically', 'calculating', 'bounds', 'user', 'contributions', 'guevera', 'says', 'key', 'most', 'science', 'operations', 'counts', 'sums', 'averages', 'medians', 'and', 'percentiles', 'supported', 'rigorous', 'testing', 'besides', 'extensive', 'test', 'suite', 'extensible', '“stochastic', 'model', 'checker', 'library”', 'helps', 'prevent', 'mistakes', 'ready', 'postgresql', 'extension', 'along', 'with', 'recipes', 'included', 'modular', 'extended', 'other', 'functionalities', 'additional', 'mechanisms', 'aggregation', 'budget', 'management', 'isn’t', 'google’s', 'first', 'rodeo', 'company', 'has', 'been', 'particularly', 'busy', 'space', 'year', 'used', 'its', 'such', 'as', 'any', 'developer', 'on', 'statistical', 'but', 'their', 'be', 'that', 'use', 'features', 'include', 'common', 'an', 'can', 'want', 'from', '”', 'is', 'this', 'functions', 'google', 'of', 'differential', 'library', 'or', 'data', 'in', 'a', 'you', 'are', 'privacy', 'the', 'to']\n"
     ]
    }
   ],
   "source": [
    "print(words)"
   ]
  },
  {
   "cell_type": "code",
   "execution_count": 34,
   "id": "22a2bc5d-54f6-4d5c-b24b-f8ed110ef0b2",
   "metadata": {},
   "outputs": [
    {
     "data": {
      "image/png": "[encoded data removed]",
      "text/plain": [
       "<Figure size 1000x2000 with 1 Axes>"
      ]
     },
     "metadata": {},
     "output_type": "display_data"
    }
   ],
   "source": [
    "import matplotlib.pyplot as plt\n",
    "fig = plt.figure(figsize=(10, 20))\n",
    "ax = fig.subplots()\n",
    "\n",
    "plt.barh(words[-20:], counts[-20:])\n",
    "plt.show()"
   ]
  },
  {
   "cell_type": "code",
   "execution_count": 36,
   "id": "94d6bef6-bc6b-4018-89f1-0ca04eef8fa0",
   "metadata": {},
   "outputs": [
    {
     "ename": "FileNotFoundError",
     "evalue": "[Errno 2] No such file or directory: 'e:\\\\test.json'",
     "output_type": "error",
     "traceback": [
      "\u001b[1;31m---------------------------------------------------------------------------\u001b[0m",
      "\u001b[1;31mFileNotFoundError\u001b[0m                         Traceback (most recent call last)",
      "Cell \u001b[1;32mIn[36], line 3\u001b[0m\n\u001b[0;32m      1\u001b[0m \u001b[38;5;28;01mimport\u001b[39;00m \u001b[38;5;21;01mjson\u001b[39;00m\n\u001b[1;32m----> 3\u001b[0m \u001b[38;5;28;01mwith\u001b[39;00m \u001b[38;5;28mopen\u001b[39m(\u001b[38;5;124m'\u001b[39m\u001b[38;5;124me:\u001b[39m\u001b[38;5;130;01m\\\\\u001b[39;00m\u001b[38;5;124mtest.json\u001b[39m\u001b[38;5;124m'\u001b[39m, \u001b[38;5;124m'\u001b[39m\u001b[38;5;124mw\u001b[39m\u001b[38;5;124m'\u001b[39m) \u001b[38;5;28;01mas\u001b[39;00m f:\n\u001b[0;32m      4\u001b[0m     json\u001b[38;5;241m.\u001b[39mdump(words_by_count, f)\n",
      "File \u001b[1;32mD:\\anaconda\\Lib\\site-packages\\IPython\\core\\interactiveshell.py:324\u001b[0m, in \u001b[0;36m_modified_open\u001b[1;34m(file, *args, **kwargs)\u001b[0m\n\u001b[0;32m    317\u001b[0m \u001b[38;5;28;01mif\u001b[39;00m file \u001b[38;5;129;01min\u001b[39;00m {\u001b[38;5;241m0\u001b[39m, \u001b[38;5;241m1\u001b[39m, \u001b[38;5;241m2\u001b[39m}:\n\u001b[0;32m    318\u001b[0m     \u001b[38;5;28;01mraise\u001b[39;00m \u001b[38;5;167;01mValueError\u001b[39;00m(\n\u001b[0;32m    319\u001b[0m         \u001b[38;5;124mf\u001b[39m\u001b[38;5;124m\"\u001b[39m\u001b[38;5;124mIPython won\u001b[39m\u001b[38;5;124m'\u001b[39m\u001b[38;5;124mt let you open fd=\u001b[39m\u001b[38;5;132;01m{\u001b[39;00mfile\u001b[38;5;132;01m}\u001b[39;00m\u001b[38;5;124m by default \u001b[39m\u001b[38;5;124m\"\u001b[39m\n\u001b[0;32m    320\u001b[0m         \u001b[38;5;124m\"\u001b[39m\u001b[38;5;124mas it is likely to crash IPython. If you know what you are doing, \u001b[39m\u001b[38;5;124m\"\u001b[39m\n\u001b[0;32m    321\u001b[0m         \u001b[38;5;124m\"\u001b[39m\u001b[38;5;124myou can use builtins\u001b[39m\u001b[38;5;124m'\u001b[39m\u001b[38;5;124m open.\u001b[39m\u001b[38;5;124m\"\u001b[39m\n\u001b[0;32m    322\u001b[0m     )\n\u001b[1;32m--> 324\u001b[0m \u001b[38;5;28;01mreturn\u001b[39;00m io_open(file, \u001b[38;5;241m*\u001b[39margs, \u001b[38;5;241m*\u001b[39m\u001b[38;5;241m*\u001b[39mkwargs)\n",
      "\u001b[1;31mFileNotFoundError\u001b[0m: [Errno 2] No such file or directory: 'e:\\\\test.json'"
     ]
    }
   ],
   "source": [
    "import json\n",
    "\n",
    "with open('e:\\\\test.json', 'w') as f:\n",
    "    json.dump(words_by_count, f)"
   ]
  },
  {
   "cell_type": "code",
   "execution_count": 38,
   "id": "86083335-ba35-4680-93d9-b89d70e37902",
   "metadata": {},
   "outputs": [],
   "source": [
    "x = bytearray(b'hello')"
   ]
  },
  {
   "cell_type": "code",
   "execution_count": 40,
   "id": "49d1385e-495a-4686-aacb-5540d53b5d5e",
   "metadata": {},
   "outputs": [
    {
     "name": "stdout",
     "output_type": "stream",
     "text": [
      "bytearray(b'hello')\n"
     ]
    }
   ],
   "source": [
    "print(x)"
   ]
  },
  {
   "cell_type": "code",
   "execution_count": 42,
   "id": "cd5d613d-752d-46ba-82b0-e67699bbeb1f",
   "metadata": {},
   "outputs": [
    {
     "name": "stdout",
     "output_type": "stream",
     "text": [
      "bytearray(b'Hello')\n"
     ]
    }
   ],
   "source": [
    "x[0] = ord('H')\n",
    "print(x)"
   ]
  },
  {
   "cell_type": "code",
   "execution_count": 44,
   "id": "7b3e6ba8-d563-4749-9e4f-5b3b1de052dd",
   "metadata": {},
   "outputs": [
    {
     "data": {
      "text/plain": [
       "b'hello'"
      ]
     },
     "execution_count": 44,
     "metadata": {},
     "output_type": "execute_result"
    }
   ],
   "source": [
    "'hello'.encode('ASCII')"
   ]
  },
  {
   "cell_type": "code",
   "execution_count": 46,
   "id": "538e66e8-7ec1-47d6-b67e-a0ac90d0c400",
   "metadata": {},
   "outputs": [
    {
     "data": {
      "text/plain": [
       "b'\\xc4\\xe3\\xba\\xc3'"
      ]
     },
     "execution_count": 46,
     "metadata": {},
     "output_type": "execute_result"
    }
   ],
   "source": [
    "'你好'.encode('MBCS')"
   ]
  },
  {
   "cell_type": "code",
   "execution_count": 48,
   "id": "e956df19-8c78-46f6-ad3e-4a988f505b67",
   "metadata": {},
   "outputs": [
    {
     "data": {
      "text/plain": [
       "b'\\xe4\\xbd\\xa0\\xe5\\xa5\\xbd'"
      ]
     },
     "execution_count": 48,
     "metadata": {},
     "output_type": "execute_result"
    }
   ],
   "source": [
    "'你好'.encode('UTF-8')"
   ]
  },
  {
   "cell_type": "code",
   "execution_count": 50,
   "id": "ac544dde-aacd-4eee-9e90-9a2bb4f87905",
   "metadata": {},
   "outputs": [
    {
     "data": {
      "text/plain": [
       "b'hello'"
      ]
     },
     "execution_count": 50,
     "metadata": {},
     "output_type": "execute_result"
    }
   ],
   "source": [
    "'hello'.encode('UTF-8')"
   ]
  },
  {
   "cell_type": "code",
   "execution_count": 52,
   "id": "c8736212-273f-4a7a-89b8-8c3e06288234",
   "metadata": {},
   "outputs": [
    {
     "data": {
      "text/plain": [
       "12"
      ]
     },
     "execution_count": 52,
     "metadata": {},
     "output_type": "execute_result"
    }
   ],
   "source": [
    "len('hello'.encode('UTF-16'))"
   ]
  },
  {
   "cell_type": "code",
   "execution_count": 54,
   "id": "6e0c7151-fa56-473d-9dbd-9cda25260553",
   "metadata": {},
   "outputs": [
    {
     "data": {
      "text/plain": [
       "b'\\xff\\xfeh\\x00e\\x00l\\x00l\\x00o\\x00'"
      ]
     },
     "execution_count": 54,
     "metadata": {},
     "output_type": "execute_result"
    }
   ],
   "source": [
    "'hello'.encode('UTF-16')"
   ]
  },
  {
   "cell_type": "code",
   "execution_count": 56,
   "id": "941e6be4-28fa-47f4-810f-19bdfd42691d",
   "metadata": {},
   "outputs": [
    {
     "data": {
      "text/plain": [
       "24"
      ]
     },
     "execution_count": 56,
     "metadata": {},
     "output_type": "execute_result"
    }
   ],
   "source": [
    "len('hello'.encode('UTF-32'))"
   ]
  },
  {
   "cell_type": "code",
   "execution_count": 58,
   "id": "0e1460b1-fbcc-400f-98e9-d259effe5c7d",
   "metadata": {},
   "outputs": [
    {
     "name": "stdout",
     "output_type": "stream",
     "text": [
      "2 1\n"
     ]
    }
   ],
   "source": [
    "x, y = 1, 2\n",
    "x, y = y, x\n",
    "print(x, y)"
   ]
  },
  {
   "cell_type": "code",
   "execution_count": 60,
   "id": "f5523e98-f128-4083-ae5d-cecdca3d1180",
   "metadata": {},
   "outputs": [
    {
     "name": "stdout",
     "output_type": "stream",
     "text": [
      "1 [2, 3] 4\n"
     ]
    }
   ],
   "source": [
    "t = (1, 2, 3, 4)\n",
    "x, *y, z = t\n",
    "print(x, y, z)"
   ]
  },
  {
   "cell_type": "code",
   "execution_count": 62,
   "id": "fec85ebf-e410-49d6-bf36-18a84d96885a",
   "metadata": {},
   "outputs": [
    {
     "data": {
      "text/plain": [
       "True"
      ]
     },
     "execution_count": 62,
     "metadata": {},
     "output_type": "execute_result"
    }
   ],
   "source": [
    "x = y = 3\n",
    "x is y"
   ]
  },
  {
   "cell_type": "code",
   "execution_count": 64,
   "id": "31af1d74-fe21-46f3-8976-90d30c0b9c6f",
   "metadata": {},
   "outputs": [
    {
     "data": {
      "text/plain": [
       "False"
      ]
     },
     "execution_count": 64,
     "metadata": {},
     "output_type": "execute_result"
    }
   ],
   "source": [
    "x = 4\n",
    "x is y"
   ]
  },
  {
   "cell_type": "code",
   "execution_count": 66,
   "id": "ed733cff-25ac-4db4-af9c-07a62e2e8599",
   "metadata": {},
   "outputs": [
    {
     "name": "stdout",
     "output_type": "stream",
     "text": [
      "[0, 2] [0, 2]\n"
     ]
    }
   ],
   "source": [
    "x = y = [1, 2]\n",
    "x[0] = 0\n",
    "print(x, y)"
   ]
  },
  {
   "cell_type": "code",
   "execution_count": 68,
   "id": "a9cf9388-320c-45ee-9811-24bda26e4998",
   "metadata": {},
   "outputs": [
    {
     "data": {
      "text/plain": [
       "True"
      ]
     },
     "execution_count": 68,
     "metadata": {},
     "output_type": "execute_result"
    }
   ],
   "source": [
    "x is y"
   ]
  },
  {
   "cell_type": "code",
   "execution_count": 70,
   "id": "9a61a8d2-a94f-4388-adb2-8fae2efdb04e",
   "metadata": {},
   "outputs": [
    {
     "name": "stderr",
     "output_type": "stream",
     "text": [
      "<>:1: SyntaxWarning: \"is\" with 'int' literal. Did you mean \"==\"?\n",
      "<>:1: SyntaxWarning: \"is\" with 'int' literal. Did you mean \"==\"?\n",
      "C:\\Users\\20114\\AppData\\Local\\Temp\\ipykernel_16544\\30664588.py:1: SyntaxWarning: \"is\" with 'int' literal. Did you mean \"==\"?\n",
      "  3 is 3\n"
     ]
    },
    {
     "data": {
      "text/plain": [
       "True"
      ]
     },
     "execution_count": 70,
     "metadata": {},
     "output_type": "execute_result"
    }
   ],
   "source": [
    "3 is 3"
   ]
  },
  {
   "cell_type": "code",
   "execution_count": 72,
   "id": "f0618f87-d77d-437c-9357-ad006289a1f1",
   "metadata": {},
   "outputs": [
    {
     "data": {
      "text/plain": [
       "True"
      ]
     },
     "execution_count": 72,
     "metadata": {},
     "output_type": "execute_result"
    }
   ],
   "source": [
    "[3] == [3]"
   ]
  },
  {
   "cell_type": "code",
   "execution_count": 74,
   "id": "9d55822e-2af9-435e-9ada-64cdad9e1d43",
   "metadata": {},
   "outputs": [
    {
     "name": "stderr",
     "output_type": "stream",
     "text": [
      "<>:1: SyntaxWarning: \"is\" with 'str' literal. Did you mean \"==\"?\n",
      "<>:1: SyntaxWarning: \"is\" with 'str' literal. Did you mean \"==\"?\n",
      "C:\\Users\\20114\\AppData\\Local\\Temp\\ipykernel_16544\\709979984.py:1: SyntaxWarning: \"is\" with 'str' literal. Did you mean \"==\"?\n",
      "  'abc' is 'abc'\n"
     ]
    },
    {
     "data": {
      "text/plain": [
       "True"
      ]
     },
     "execution_count": 74,
     "metadata": {},
     "output_type": "execute_result"
    }
   ],
   "source": [
    "'abc' is 'abc'"
   ]
  },
  {
   "cell_type": "code",
   "execution_count": 76,
   "id": "eba78100-4ae4-45ef-b098-b52e1af2e7e0",
   "metadata": {},
   "outputs": [
    {
     "name": "stdout",
     "output_type": "stream",
     "text": [
      "in the range\n"
     ]
    }
   ],
   "source": [
    "a = 4\n",
    "if 3 < a < 5:\n",
    "    print('in the range')\n",
    "else:\n",
    "    print('out of the range')"
   ]
  },
  {
   "cell_type": "code",
   "execution_count": 78,
   "id": "9feda077-9de0-404d-9280-a46451d25956",
   "metadata": {},
   "outputs": [
    {
     "name": "stdout",
     "output_type": "stream",
     "text": [
      "3 3\n"
     ]
    }
   ],
   "source": [
    "def abs(a):\n",
    "    if a >= 0:\n",
    "        return a\n",
    "    else:\n",
    "        return -a\n",
    "\n",
    "print(abs(3), abs(-3))"
   ]
  },
  {
   "cell_type": "code",
   "execution_count": 80,
   "id": "48c1a423-34c1-4744-8f2b-a0d178fe175b",
   "metadata": {},
   "outputs": [
    {
     "name": "stdout",
     "output_type": "stream",
     "text": [
      "3 3\n"
     ]
    }
   ],
   "source": [
    "def abs(a):\n",
    "    return a if a >= 0 else -a\n",
    "\n",
    "print(abs(3), abs(-3))"
   ]
  },
  {
   "cell_type": "code",
   "execution_count": 82,
   "id": "3d4a44f6-5e44-4380-93fa-110b2ef31531",
   "metadata": {},
   "outputs": [
    {
     "name": "stdin",
     "output_type": "stream",
     "text": [
      "please input your name:  \n"
     ]
    },
    {
     "name": "stdout",
     "output_type": "stream",
     "text": [
      "forgot your name?\n"
     ]
    }
   ],
   "source": [
    "name = input('please input your name: ')\n",
    "if name:\n",
    "    print(f'hello, {name}')\n",
    "else:\n",
    "    print('forgot your name?')"
   ]
  },
  {
   "cell_type": "code",
   "execution_count": 84,
   "id": "79ec167b-9fb8-402d-b821-d50fd0b23877",
   "metadata": {},
   "outputs": [
    {
     "name": "stdin",
     "output_type": "stream",
     "text": [
      "please input your name:  \n"
     ]
    },
    {
     "name": "stdout",
     "output_type": "stream",
     "text": [
      "forgot your name?\n"
     ]
    }
   ],
   "source": [
    "name = input('please input your name: ')\n",
    "print(f'hello, {name}' if name else 'forgot your name?')"
   ]
  },
  {
   "cell_type": "code",
   "execution_count": 86,
   "id": "867782f9-e1e9-4c36-a208-a7b6c42030a5",
   "metadata": {},
   "outputs": [],
   "source": [
    "if \"\":\n",
    "    print('hello')"
   ]
  },
  {
   "cell_type": "code",
   "execution_count": 88,
   "id": "334162a9-59ae-4eb3-95dd-d379301e88ce",
   "metadata": {},
   "outputs": [
    {
     "data": {
      "text/plain": [
       "False"
      ]
     },
     "execution_count": 88,
     "metadata": {},
     "output_type": "execute_result"
    }
   ],
   "source": [
    "\"\" == False"
   ]
  },
  {
   "cell_type": "code",
   "execution_count": 90,
   "id": "7f4c9f83-e7a4-4e65-a421-64701223cb6d",
   "metadata": {},
   "outputs": [
    {
     "data": {
      "text/plain": [
       "True"
      ]
     },
     "execution_count": 90,
     "metadata": {},
     "output_type": "execute_result"
    }
   ],
   "source": [
    "bool(\"\") == False"
   ]
  }
 ],
 "metadata": {
  "kernelspec": {
   "display_name": "Python 3 (ipykernel)",
   "language": "python",
   "name": "python3"
  },
  "language_info": {
   "codemirror_mode": {
    "name": "ipython",
    "version": 3
   },
   "file_extension": ".py",
   "mimetype": "text/x-python",
   "name": "python",
   "nbconvert_exporter": "python",
   "pygments_lexer": "ipython3",
   "version": "3.12.4"
  }
 },
 "nbformat": 4,
 "nbformat_minor": 5
}
