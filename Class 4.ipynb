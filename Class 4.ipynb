{
 "cells": [
  {
   "cell_type": "code",
   "execution_count": 1,
   "id": "48ab2d9c-7aa3-4b0d-a0a0-d4d5fa55179b",
   "metadata": {},
   "outputs": [
    {
     "name": "stdin",
     "output_type": "stream",
     "text": [
      "please input the year:  2023\n"
     ]
    },
    {
     "name": "stdout",
     "output_type": "stream",
     "text": [
      "not leap year\n"
     ]
    }
   ],
   "source": [
    "year = int(input('please input the year: '))\n",
    "if year % 400 == 0:\n",
    "    print('leap year')\n",
    "elif year % 100 == 0:\n",
    "    print('not leap year')\n",
    "elif year % 4 == 0:\n",
    "    print('leap year')\n",
    "else:\n",
    "    print('not leap year')"
   ]
  },
  {
   "cell_type": "code",
   "execution_count": 3,
   "id": "b12d76d2-fcc3-4d91-a3f5-2c3c68279a81",
   "metadata": {},
   "outputs": [],
   "source": [
    "def leap_year(year):\n",
    "    if year % 400 == 0:\n",
    "        return True\n",
    "    elif year % 100 == 0:\n",
    "        return False\n",
    "    elif year % 4 == 0:\n",
    "        return True\n",
    "    else:\n",
    "        return False"
   ]
  },
  {
   "cell_type": "code",
   "execution_count": 5,
   "id": "8d5a6977-b54d-41ca-9514-7f92aab883b4",
   "metadata": {},
   "outputs": [
    {
     "name": "stdin",
     "output_type": "stream",
     "text": [
      "please input the year:  2023\n"
     ]
    },
    {
     "name": "stdout",
     "output_type": "stream",
     "text": [
      "not leap year\n"
     ]
    }
   ],
   "source": [
    "year = int(input('please input the year: '))\n",
    "print('leap year' if leap_year(year) else 'not leap year')"
   ]
  },
  {
   "cell_type": "code",
   "execution_count": 9,
   "id": "d0e520cd-c64c-4e9b-aa5f-b4be6c1fc844",
   "metadata": {},
   "outputs": [],
   "source": [
    "assert 4 > 3"
   ]
  },
  {
   "cell_type": "code",
   "execution_count": 11,
   "id": "fed28ffb-c1ae-4421-ade9-6bcc9431e42e",
   "metadata": {},
   "outputs": [
    {
     "ename": "AssertionError",
     "evalue": "",
     "output_type": "error",
     "traceback": [
      "\u001b[1;31m---------------------------------------------------------------------------\u001b[0m",
      "\u001b[1;31mAssertionError\u001b[0m                            Traceback (most recent call last)",
      "Cell \u001b[1;32mIn[11], line 1\u001b[0m\n\u001b[1;32m----> 1\u001b[0m \u001b[38;5;28;01massert\u001b[39;00m \u001b[38;5;241m4\u001b[39m \u001b[38;5;241m>\u001b[39m \u001b[38;5;241m5\u001b[39m\n",
      "\u001b[1;31mAssertionError\u001b[0m: "
     ]
    }
   ],
   "source": [
    "assert 4 > 5"
   ]
  },
  {
   "cell_type": "code",
   "execution_count": 21,
   "id": "30466c3a-97df-4a13-9420-e3a6e60a74d3",
   "metadata": {},
   "outputs": [],
   "source": [
    "a = -3"
   ]
  },
  {
   "cell_type": "code",
   "execution_count": 23,
   "id": "3505e2f0-40e3-4d6c-814d-ff9636b35ee8",
   "metadata": {},
   "outputs": [
    {
     "ename": "AssertionError",
     "evalue": "a must be positive",
     "output_type": "error",
     "traceback": [
      "\u001b[1;31m---------------------------------------------------------------------------\u001b[0m",
      "\u001b[1;31mAssertionError\u001b[0m                            Traceback (most recent call last)",
      "Cell \u001b[1;32mIn[23], line 1\u001b[0m\n\u001b[1;32m----> 1\u001b[0m \u001b[38;5;28;01massert\u001b[39;00m a \u001b[38;5;241m>\u001b[39m \u001b[38;5;241m0\u001b[39m, \u001b[38;5;124m'\u001b[39m\u001b[38;5;124ma must be positive\u001b[39m\u001b[38;5;124m'\u001b[39m\n",
      "\u001b[1;31mAssertionError\u001b[0m: a must be positive"
     ]
    }
   ],
   "source": [
    "assert a > 0, 'a must be positive'"
   ]
  },
  {
   "cell_type": "code",
   "execution_count": 25,
   "id": "235c7e79-4579-44ec-801b-3e91e25d1231",
   "metadata": {},
   "outputs": [],
   "source": [
    "assert leap_year(2000)"
   ]
  },
  {
   "cell_type": "code",
   "execution_count": 27,
   "id": "4d3b8603-4f15-4ab1-b32f-f9baf2fd616e",
   "metadata": {},
   "outputs": [
    {
     "ename": "AssertionError",
     "evalue": "",
     "output_type": "error",
     "traceback": [
      "\u001b[1;31m---------------------------------------------------------------------------\u001b[0m",
      "\u001b[1;31mAssertionError\u001b[0m                            Traceback (most recent call last)",
      "Cell \u001b[1;32mIn[27], line 1\u001b[0m\n\u001b[1;32m----> 1\u001b[0m \u001b[38;5;28;01massert\u001b[39;00m leap_year(\u001b[38;5;241m1900\u001b[39m)\n",
      "\u001b[1;31mAssertionError\u001b[0m: "
     ]
    }
   ],
   "source": [
    "assert leap_year(1900)"
   ]
  },
  {
   "cell_type": "code",
   "execution_count": 29,
   "id": "41a8a475-3e61-4dde-aa50-4ebd7ccac433",
   "metadata": {},
   "outputs": [],
   "source": [
    "assert not leap_year(1900)\n",
    "assert not leap_year(2023)"
   ]
  },
  {
   "cell_type": "code",
   "execution_count": 36,
   "id": "99bebc8c-5920-41f1-8f38-75d6992ecbd3",
   "metadata": {},
   "outputs": [],
   "source": [
    "def test_leap_year():\n",
    "    assert leap_year(2000)\n",
    "    assert leap_year(1996)\n",
    "    assert not leap_year(1900)\n",
    "    assert not leap_year(2023)\n",
    "    print('leap_year() test ok')"
   ]
  },
  {
   "cell_type": "code",
   "execution_count": 38,
   "id": "3dd7653f-3182-4b67-a17d-75a90d0ce203",
   "metadata": {},
   "outputs": [
    {
     "name": "stdout",
     "output_type": "stream",
     "text": [
      "leap_year() test ok\n"
     ]
    }
   ],
   "source": [
    "test_leap_year()"
   ]
  },
  {
   "cell_type": "code",
   "execution_count": 40,
   "id": "48b8a011-e990-4de8-8813-71c430f170c0",
   "metadata": {},
   "outputs": [],
   "source": [
    "def leap_year(year):\n",
    "    return (year % 400 == 0) or (year % 4 == 0 and year % 100)"
   ]
  },
  {
   "cell_type": "code",
   "execution_count": 42,
   "id": "ea14eb1d-e2c5-4375-8587-07c4091452fc",
   "metadata": {},
   "outputs": [
    {
     "name": "stdout",
     "output_type": "stream",
     "text": [
      "leap_year() test ok\n"
     ]
    }
   ],
   "source": [
    "test_leap_year()"
   ]
  },
  {
   "cell_type": "code",
   "execution_count": 44,
   "id": "264410fb-2a9e-472d-960f-54c9c6a1cb83",
   "metadata": {},
   "outputs": [
    {
     "name": "stdout",
     "output_type": "stream",
     "text": [
      "1 3 5 7 9 11 13 15 17 19 21 23 25 27 29 31 33 35 37 39 41 43 45 47 49 51 53 55 57 59 61 63 65 67 69 71 73 75 77 79 81 83 85 87 89 91 93 95 97 99 "
     ]
    }
   ],
   "source": [
    "x = 1\n",
    "while x <= 100:\n",
    "    print(x, end=' ')\n",
    "    x += 2"
   ]
  },
  {
   "cell_type": "code",
   "execution_count": 48,
   "id": "2d5ced1e-bb59-4af2-a54f-3243fa06df5e",
   "metadata": {},
   "outputs": [
    {
     "name": "stdout",
     "output_type": "stream",
     "text": [
      "1 3 5 7 9 11 13 15 17 19 21 23 25 27 29 31 33 35 37 39 41 43 45 47 49 51 53 55 57 59 61 63 65 67 69 71 73 75 77 79 81 83 85 87 89 91 93 95 97 99 "
     ]
    }
   ],
   "source": [
    "for i in range(1, 100, 2):\n",
    "    print(i, end=' ')"
   ]
  },
  {
   "cell_type": "code",
   "execution_count": 50,
   "id": "5b47d02b-010d-42b3-84de-7c7e539f4c3b",
   "metadata": {},
   "outputs": [
    {
     "data": {
      "text/plain": [
       "[1,\n",
       " 2,\n",
       " 4,\n",
       " 5,\n",
       " 7,\n",
       " 8,\n",
       " 10,\n",
       " 11,\n",
       " 14,\n",
       " 16,\n",
       " 17,\n",
       " 19,\n",
       " 20,\n",
       " 22,\n",
       " 25,\n",
       " 26,\n",
       " 28,\n",
       " 29,\n",
       " 40,\n",
       " 41,\n",
       " 44,\n",
       " 46,\n",
       " 47,\n",
       " 49,\n",
       " 50,\n",
       " 52,\n",
       " 55,\n",
       " 56,\n",
       " 58,\n",
       " 59,\n",
       " 61,\n",
       " 62,\n",
       " 64,\n",
       " 65,\n",
       " 67,\n",
       " 68,\n",
       " 70,\n",
       " 71,\n",
       " 74,\n",
       " 76,\n",
       " 77,\n",
       " 79,\n",
       " 80,\n",
       " 82,\n",
       " 85,\n",
       " 86,\n",
       " 88,\n",
       " 89,\n",
       " 91,\n",
       " 92,\n",
       " 94,\n",
       " 95,\n",
       " 97,\n",
       " 98]"
      ]
     },
     "execution_count": 50,
     "metadata": {},
     "output_type": "execute_result"
    }
   ],
   "source": [
    "[i for i in range(1, 100) if i % 3 and not '3' in str(i)]"
   ]
  },
  {
   "cell_type": "code",
   "execution_count": 52,
   "id": "0bcc47f2-94ea-497b-85e4-01ba77bfbf71",
   "metadata": {},
   "outputs": [
    {
     "name": "stdout",
     "output_type": "stream",
     "text": [
      "**********\n",
      "**********\n",
      "**********\n",
      "**********\n",
      "**********\n"
     ]
    }
   ],
   "source": [
    "for i in range(0,5):\n",
    "    print('*' * 10)"
   ]
  },
  {
   "cell_type": "code",
   "execution_count": 56,
   "id": "e79d97b8-f56d-43eb-ad0e-3d4d1177c500",
   "metadata": {},
   "outputs": [
    {
     "name": "stdout",
     "output_type": "stream",
     "text": [
      " *\n"
     ]
    }
   ],
   "source": [
    "print('*', end='\\r')\n",
    "print('\\r *')"
   ]
  },
  {
   "cell_type": "code",
   "execution_count": 60,
   "id": "408a2991-19a8-4f62-8c71-4abdb1e0f85d",
   "metadata": {},
   "outputs": [
    {
     "name": "stdout",
     "output_type": "stream",
     "text": [
      "hell\n"
     ]
    }
   ],
   "source": [
    "print('hello\\b')"
   ]
  },
  {
   "cell_type": "code",
   "execution_count": 70,
   "id": "46aee257-dd19-4350-962e-701a539cbc55",
   "metadata": {},
   "outputs": [
    {
     "name": "stdout",
     "output_type": "stream",
     "text": [
      "\b                                                           *"
     ]
    }
   ],
   "source": [
    "import math\n",
    "\n",
    "x = 1\n",
    "while x < 60:\n",
    "    print('\\b *', end='', flush = True)\n",
    "    for y in range(50000):\n",
    "        z = math.sin(y)\n",
    "    x += 1"
   ]
  },
  {
   "cell_type": "code",
   "execution_count": 72,
   "id": "0b7fffc4-ca05-4463-9f47-018760a54895",
   "metadata": {},
   "outputs": [
    {
     "name": "stdout",
     "output_type": "stream",
     "text": [
      "--------------------------------------------------*---------\n"
     ]
    }
   ],
   "source": [
    "bar = [ch for ch in '-' * 60]\n",
    "bar[50] = '*'\n",
    "print(''.join(bar))\n"
   ]
  },
  {
   "cell_type": "code",
   "execution_count": 90,
   "id": "7bd9f16a-8ea5-4b28-b0df-ce50449cf5b7",
   "metadata": {},
   "outputs": [
    {
     "name": "stdout",
     "output_type": "stream",
     "text": [
      "#----------------------------------------------------------*\r"
     ]
    }
   ],
   "source": [
    "x = 0\n",
    "y = 59\n",
    "for i in range(60):\n",
    "    bar[x] = '*'\n",
    "    bar[y] = '#'\n",
    "    print(''.join(bar), end='', flush=True)\n",
    "    bar[x] = '-'\n",
    "    bar[y] = '-'\n",
    "    x += 1\n",
    "    y -= 1\n",
    "    print('\\r', end='', flush=True)"
   ]
  },
  {
   "cell_type": "code",
   "execution_count": 92,
   "id": "cbc85841-fc20-4fb8-b26b-e55862677a58",
   "metadata": {},
   "outputs": [
    {
     "name": "stdin",
     "output_type": "stream",
     "text": [
      "Please input a number:  48\n"
     ]
    },
    {
     "name": "stdout",
     "output_type": "stream",
     "text": [
      "not found\n"
     ]
    }
   ],
   "source": [
    "x = int(input('Please input a number: '))\n",
    "for i in range(100):\n",
    "    if (i * i == x):\n",
    "        print(f'{i} squard is {x}.')\n",
    "        break\n",
    "else:\n",
    "    print('not found')"
   ]
  },
  {
   "cell_type": "code",
   "execution_count": 96,
   "id": "9b4d61c0-18e6-4312-94c8-a5169fb3d407",
   "metadata": {},
   "outputs": [
    {
     "name": "stdout",
     "output_type": "stream",
     "text": [
      "a : 10\n",
      "b : 20\n",
      "c : 30\n"
     ]
    }
   ],
   "source": [
    "names = ['a', 'b', 'c']\n",
    "ages = [10, 20, 30]\n",
    "\n",
    "for i in range(len(names)):\n",
    "    print(f'{names[i]} : {ages[i]}')"
   ]
  },
  {
   "cell_type": "code",
   "execution_count": 98,
   "id": "ec3892bf-cda2-481d-b2f1-aa525d2fdcf0",
   "metadata": {},
   "outputs": [
    {
     "name": "stdout",
     "output_type": "stream",
     "text": [
      "a : 10\n",
      "b : 20\n",
      "c : 30\n"
     ]
    }
   ],
   "source": [
    "for name, age in zip(names, ages):\n",
    "    print(f'{name} : {age}')"
   ]
  },
  {
   "cell_type": "code",
   "execution_count": 102,
   "id": "cec53f9a-89ab-4161-af8c-cb742f25c781",
   "metadata": {},
   "outputs": [
    {
     "name": "stdin",
     "output_type": "stream",
     "text": [
      "please input a startment:  3.14/8\n"
     ]
    },
    {
     "name": "stdout",
     "output_type": "stream",
     "text": [
      "0.3824994972760097\n"
     ]
    }
   ],
   "source": [
    "cmd = input('please input a startment: ')\n",
    "print(math.sin(eval(cmd)))"
   ]
  },
  {
   "cell_type": "code",
   "execution_count": 106,
   "id": "2ff2a719-b15b-497a-a259-9862ed642eee",
   "metadata": {},
   "outputs": [
    {
     "name": "stdout",
     "output_type": "stream",
     "text": [
      "Variable               Type        Data/Info\n",
      "--------------------------------------------\n",
      "a                      int         -3\n",
      "age                    int         30\n",
      "ages                   list        n=3\n",
      "bar                    list        n=60\n",
      "cmd                    str         3.14/8\n",
      "dataframe_columns      function    <function dataframe_colum<...>ns at 0x0000018C9C906F20>\n",
      "dataframe_hash         function    <function dataframe_hash at 0x0000018C9C905E40>\n",
      "dtypes_str             function    <function dtypes_str at 0x0000018C9C2B6B60>\n",
      "get_dataframes         function    <function get_dataframes at 0x0000018C9C907060>\n",
      "getpass                module      <module 'getpass' from 'D<...>aconda\\\\Lib\\\\getpass.py'>\n",
      "hashlib                module      <module 'hashlib' from 'D<...>aconda\\\\Lib\\\\hashlib.py'>\n",
      "i                      int         2\n",
      "import_pandas_safely   function    <function import_pandas_s<...>ly at 0x0000018C9C9067A0>\n",
      "is_data_frame          function    <function is_data_frame at 0x0000018C9C2B7EC0>\n",
      "json                   module      <module 'json' from 'D:\\\\<...>\\Lib\\\\json\\\\__init__.py'>\n",
      "leap_year              function    <function leap_year at 0x0000018C9A577740>\n",
      "math                   module      <module 'math' (built-in)>\n",
      "name                   str         c\n",
      "names                  list        n=3\n",
      "test_leap_year         function    <function test_leap_year at 0x0000018C9A577E20>\n",
      "time                   module      <module 'time' (built-in)>\n",
      "x                      int         48\n",
      "y                      int         -1\n",
      "year                   int         2023\n",
      "z                      float       -0.9773520315382229\n"
     ]
    }
   ],
   "source": [
    "%whos"
   ]
  },
  {
   "cell_type": "code",
   "execution_count": 108,
   "id": "48668990-97de-4979-9cdd-33d8efb955d2",
   "metadata": {},
   "outputs": [],
   "source": [
    "def hello(name):\n",
    "    print(f'hello, {name}!')"
   ]
  },
  {
   "cell_type": "code",
   "execution_count": 114,
   "id": "40471e6b-f797-4bcd-9879-2a8f031625a3",
   "metadata": {},
   "outputs": [
    {
     "name": "stdout",
     "output_type": "stream",
     "text": [
      "hello, world!\n"
     ]
    }
   ],
   "source": [
    "hello('world')"
   ]
  },
  {
   "cell_type": "code",
   "execution_count": 116,
   "id": "2df6d019-1bfb-40c3-852a-16102fd5b244",
   "metadata": {},
   "outputs": [
    {
     "name": "stdout",
     "output_type": "stream",
     "text": [
      "<function hello at 0x0000018C9C907600>\n"
     ]
    }
   ],
   "source": [
    "print(hello)"
   ]
  },
  {
   "cell_type": "code",
   "execution_count": 118,
   "id": "9221d581-7556-456c-b338-841321864620",
   "metadata": {},
   "outputs": [
    {
     "data": {
      "text/plain": [
       "True"
      ]
     },
     "execution_count": 118,
     "metadata": {},
     "output_type": "execute_result"
    }
   ],
   "source": [
    "callable(hello)"
   ]
  },
  {
   "cell_type": "code",
   "execution_count": 120,
   "id": "79c60f52-2ec5-48e7-8a0a-33754ab17518",
   "metadata": {},
   "outputs": [
    {
     "name": "stdout",
     "output_type": "stream",
     "text": [
      "Help on function hello in module __main__:\n",
      "\n",
      "hello(name)\n",
      "\n"
     ]
    }
   ],
   "source": [
    "help(hello)"
   ]
  },
  {
   "cell_type": "code",
   "execution_count": 124,
   "id": "49312735-b956-4577-89f3-4d8fd3b96f74",
   "metadata": {},
   "outputs": [
    {
     "name": "stdout",
     "output_type": "stream",
     "text": [
      "[10, 1]\n"
     ]
    }
   ],
   "source": [
    "def test(a_list):\n",
    "    a_list[0] = 10\n",
    "    \n",
    "my_list = [0, 1]\n",
    "test(my_list)\n",
    "print(my_list)"
   ]
  },
  {
   "cell_type": "code",
   "execution_count": 130,
   "id": "153d20ec-c2cb-4397-b081-2fd12adbba80",
   "metadata": {},
   "outputs": [
    {
     "name": "stdout",
     "output_type": "stream",
     "text": [
      "8\n"
     ]
    }
   ],
   "source": [
    "def double_it(num):\n",
    "    return num * 2\n",
    "\n",
    "n = 4\n",
    "n = double_it(n)\n",
    "print(n)"
   ]
  },
  {
   "cell_type": "code",
   "execution_count": 132,
   "id": "0fade5d9-76fe-44b9-a652-726895f7b5e4",
   "metadata": {},
   "outputs": [],
   "source": [
    "def hello(greeting, name):\n",
    "    print(f'{greeting}, {name}!')"
   ]
  },
  {
   "cell_type": "code",
   "execution_count": 134,
   "id": "d8c1817e-0169-4798-a01a-f2b5a86ca4c2",
   "metadata": {},
   "outputs": [
    {
     "name": "stdout",
     "output_type": "stream",
     "text": [
      "Welcome to ECNU, zhangsan!\n"
     ]
    }
   ],
   "source": [
    "hello('Welcome to ECNU', 'zhangsan')"
   ]
  },
  {
   "cell_type": "code",
   "execution_count": 136,
   "id": "f302eb7e-94c0-4b4c-907f-66616f132b15",
   "metadata": {},
   "outputs": [
    {
     "name": "stdout",
     "output_type": "stream",
     "text": [
      "zhangsan, Welcome to ECNU!\n"
     ]
    }
   ],
   "source": [
    "hello('zhangsan', 'Welcome to ECNU')"
   ]
  },
  {
   "cell_type": "code",
   "execution_count": 138,
   "id": "31dc65d5-1582-42f5-937c-06c2b70efd77",
   "metadata": {},
   "outputs": [
    {
     "name": "stdout",
     "output_type": "stream",
     "text": [
      "{'x': 1, 'y': 2, 'z': 3}\n"
     ]
    }
   ],
   "source": [
    "def print_params(**params):\n",
    "    print(params)\n",
    "print_params(x=1, y=2, z=3)"
   ]
  },
  {
   "cell_type": "code",
   "execution_count": 142,
   "id": "020cb6a3-f49d-40d9-9473-d87e0875f4e0",
   "metadata": {},
   "outputs": [],
   "source": [
    "from functools import lru_cache\n",
    "@lru_cache(maxsize=None)\n",
    "def Fib(i):\n",
    "    if i == 0 or i == 1:\n",
    "        return 1\n",
    "    else:\n",
    "        return Fib(i-1) + Fib(i-2)"
   ]
  },
  {
   "cell_type": "code",
   "execution_count": 144,
   "id": "2faa3828-6c3a-42c1-9151-bebf1da65c97",
   "metadata": {},
   "outputs": [
    {
     "data": {
      "text/plain": [
       "573147844013817084101"
      ]
     },
     "execution_count": 144,
     "metadata": {},
     "output_type": "execute_result"
    }
   ],
   "source": [
    "Fib(100)"
   ]
  },
  {
   "cell_type": "code",
   "execution_count": 148,
   "id": "618f5d99-925b-4e0d-ba22-a5a450a6cf19",
   "metadata": {},
   "outputs": [
    {
     "name": "stdout",
     "output_type": "stream",
     "text": [
      "a -> c\n",
      "a -> b\n",
      "c -> b\n",
      "a -> c\n",
      "b -> a\n",
      "b -> c\n",
      "a -> c\n"
     ]
    }
   ],
   "source": [
    "def hanoi(n, source, dest, temp):\n",
    "    if n > 1:\n",
    "        hanoi(n - 1, source, temp, dest)\n",
    "        print(f'{source} -> {dest}')\n",
    "        hanoi(n - 1, temp, dest, source)\n",
    "    else:\n",
    "        print(f'{source} -> {dest}')\n",
    "\n",
    "hanoi(3, 'a', 'c', 'b')"
   ]
  }
 ],
 "metadata": {
  "kernelspec": {
   "display_name": "Python 3 (ipykernel)",
   "language": "python",
   "name": "python3"
  },
  "language_info": {
   "codemirror_mode": {
    "name": "ipython",
    "version": 3
   },
   "file_extension": ".py",
   "mimetype": "text/x-python",
   "name": "python",
   "nbconvert_exporter": "python",
   "pygments_lexer": "ipython3",
   "version": "3.12.4"
  }
 },
 "nbformat": 4,
 "nbformat_minor": 5
}
