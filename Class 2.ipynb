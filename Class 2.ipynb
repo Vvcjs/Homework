{
 "cells": [
  {
   "cell_type": "code",
   "execution_count": 1,
   "id": "bd5d3c76-5ebd-40f4-af2d-5174d82c10a3",
   "metadata": {},
   "outputs": [],
   "source": [
    "a = list(range(10))"
   ]
  },
  {
   "cell_type": "code",
   "execution_count": 3,
   "id": "c31085bb-5c9d-4a3a-8683-1e06cd6ac365",
   "metadata": {},
   "outputs": [
    {
     "data": {
      "text/plain": [
       "[0, 1, 2, 3, 4, 5, 6, 7, 8, 9]"
      ]
     },
     "execution_count": 3,
     "metadata": {},
     "output_type": "execute_result"
    }
   ],
   "source": [
    "a"
   ]
  },
  {
   "cell_type": "code",
   "execution_count": 5,
   "id": "d94264a2-825a-4194-998b-613991e7aca5",
   "metadata": {},
   "outputs": [
    {
     "name": "stdout",
     "output_type": "stream",
     "text": [
      "[1, 2, 3, 4, 5, 6, 7, 8, 9]\n"
     ]
    }
   ],
   "source": [
    "del a[0]\n",
    "print(a)"
   ]
  },
  {
   "cell_type": "code",
   "execution_count": 7,
   "id": "5bea1f9c-bee0-4913-ab2f-f2e331dd507c",
   "metadata": {},
   "outputs": [
    {
     "name": "stdout",
     "output_type": "stream",
     "text": [
      "[]\n"
     ]
    }
   ],
   "source": [
    "a.clear()\n",
    "print(a)"
   ]
  },
  {
   "cell_type": "code",
   "execution_count": 9,
   "id": "6669d08f-5fdf-4ebb-9478-470e18c5541b",
   "metadata": {},
   "outputs": [
    {
     "data": {
      "text/plain": [
       "[0, 1, 2]"
      ]
     },
     "execution_count": 9,
     "metadata": {},
     "output_type": "execute_result"
    }
   ],
   "source": [
    "a = list(range(3))\n",
    "a"
   ]
  },
  {
   "cell_type": "code",
   "execution_count": 11,
   "id": "0ebdc49f-c274-48c1-979e-eecb120d1cc5",
   "metadata": {},
   "outputs": [
    {
     "data": {
      "text/plain": [
       "[0, 1, 2]"
      ]
     },
     "execution_count": 11,
     "metadata": {},
     "output_type": "execute_result"
    }
   ],
   "source": [
    "b = a\n",
    "b"
   ]
  },
  {
   "cell_type": "code",
   "execution_count": 13,
   "id": "55fa913c-a0ed-419e-a690-299558cc9ee2",
   "metadata": {},
   "outputs": [
    {
     "data": {
      "text/plain": [
       "[0, 1, 2, 3]"
      ]
     },
     "execution_count": 13,
     "metadata": {},
     "output_type": "execute_result"
    }
   ],
   "source": [
    "b.append(3)\n",
    "b"
   ]
  },
  {
   "cell_type": "code",
   "execution_count": 15,
   "id": "3e03bc62-d96f-41a6-b9d3-b2a71ae0462c",
   "metadata": {},
   "outputs": [
    {
     "data": {
      "text/plain": [
       "[0, 1, 2, 3]"
      ]
     },
     "execution_count": 15,
     "metadata": {},
     "output_type": "execute_result"
    }
   ],
   "source": [
    "a"
   ]
  },
  {
   "cell_type": "code",
   "execution_count": 17,
   "id": "eff46bab-40f0-4238-9907-685a5cc47214",
   "metadata": {},
   "outputs": [
    {
     "data": {
      "text/plain": [
       "[0, 1, 2, 3]"
      ]
     },
     "execution_count": 17,
     "metadata": {},
     "output_type": "execute_result"
    }
   ],
   "source": [
    "b = [0, 1, 2, 3, 4]\n",
    "a"
   ]
  },
  {
   "cell_type": "code",
   "execution_count": 19,
   "id": "889e497f-c102-4a56-aa25-41da8eb0449e",
   "metadata": {},
   "outputs": [
    {
     "data": {
      "text/plain": [
       "[0, 1, 2, 3]"
      ]
     },
     "execution_count": 19,
     "metadata": {},
     "output_type": "execute_result"
    }
   ],
   "source": [
    "b = a.copy()\n",
    "b"
   ]
  },
  {
   "cell_type": "code",
   "execution_count": 23,
   "id": "12ae5b12-df5e-4a6c-a6f5-c6b1290c0bd8",
   "metadata": {},
   "outputs": [
    {
     "name": "stdout",
     "output_type": "stream",
     "text": [
      "[100, 1, 2, 3]\n",
      "[0, 1, 2, 3]\n"
     ]
    }
   ],
   "source": [
    "b[0] = 100\n",
    "print(b)\n",
    "print(a)"
   ]
  },
  {
   "cell_type": "code",
   "execution_count": 25,
   "id": "2d33d840-a14f-4bdf-89b6-e281ec8c0730",
   "metadata": {},
   "outputs": [
    {
     "name": "stdout",
     "output_type": "stream",
     "text": [
      "[1, 2, [3, 4]] [1, 2, [3, 4]]\n"
     ]
    }
   ],
   "source": [
    "a = [1, 2, [3, 4]]\n",
    "b = a.copy()\n",
    "print(a, b)"
   ]
  },
  {
   "cell_type": "code",
   "execution_count": 27,
   "id": "aea23530-6341-41aa-827f-b796e1c6beb5",
   "metadata": {},
   "outputs": [
    {
     "name": "stdout",
     "output_type": "stream",
     "text": [
      "[1, 2, [3, 4]] [0, 2, [3, 4]]\n"
     ]
    }
   ],
   "source": [
    "b[0] = 0\n",
    "print(a, b)"
   ]
  },
  {
   "cell_type": "code",
   "execution_count": 29,
   "id": "050eb189-9571-4a9b-a6cd-13a20f8a6cf6",
   "metadata": {},
   "outputs": [
    {
     "name": "stdout",
     "output_type": "stream",
     "text": [
      "[1, 2, [30, 4]] [0, 2, [30, 4]]\n"
     ]
    }
   ],
   "source": [
    "b[2][0] = 30\n",
    "print(a, b)"
   ]
  },
  {
   "cell_type": "code",
   "execution_count": 31,
   "id": "01b7fd02-d42e-4dcd-9070-27874a83546b",
   "metadata": {},
   "outputs": [
    {
     "name": "stdout",
     "output_type": "stream",
     "text": [
      "[1, 2, [3, 4]] [1, 2, [30, 4]]\n"
     ]
    }
   ],
   "source": [
    "from copy import deepcopy\n",
    "a = [1, 2, [3, 4]]\n",
    "b = deepcopy(a)\n",
    "b[2][0] = 30\n",
    "print(a, b)"
   ]
  },
  {
   "cell_type": "code",
   "execution_count": 33,
   "id": "ee8d75f5-0c41-4522-b4b9-69231017edc4",
   "metadata": {},
   "outputs": [
    {
     "data": {
      "text/plain": [
       "9"
      ]
     },
     "execution_count": 33,
     "metadata": {},
     "output_type": "execute_result"
    }
   ],
   "source": [
    "a = list(range(9))\n",
    "len(a)"
   ]
  },
  {
   "cell_type": "code",
   "execution_count": 35,
   "id": "a2001c5f-fb49-4738-b45a-5d5ea3177684",
   "metadata": {},
   "outputs": [
    {
     "data": {
      "text/plain": [
       "5"
      ]
     },
     "execution_count": 35,
     "metadata": {},
     "output_type": "execute_result"
    }
   ],
   "source": [
    "len('hello')"
   ]
  },
  {
   "cell_type": "code",
   "execution_count": 37,
   "id": "13cef3a6-762f-48d3-8450-145931a9c0b7",
   "metadata": {},
   "outputs": [
    {
     "data": {
      "text/plain": [
       "4"
      ]
     },
     "execution_count": 37,
     "metadata": {},
     "output_type": "execute_result"
    }
   ],
   "source": [
    "a.index(4)"
   ]
  },
  {
   "cell_type": "code",
   "execution_count": 39,
   "id": "b41bf1db-68ad-4b92-a3ff-80407ac57967",
   "metadata": {},
   "outputs": [
    {
     "name": "stdout",
     "output_type": "stream",
     "text": [
      "[0, 1, 2, 3, 4]\n"
     ]
    }
   ],
   "source": [
    "a = [0, 1, 2]\n",
    "b = [3, 4]\n",
    "a += b\n",
    "print(a)"
   ]
  },
  {
   "cell_type": "code",
   "execution_count": 41,
   "id": "85a13be0-6ed6-423d-93be-af85d5264735",
   "metadata": {},
   "outputs": [
    {
     "name": "stdout",
     "output_type": "stream",
     "text": [
      "[0, 1, 2, 3, 4]\n"
     ]
    }
   ],
   "source": [
    "a = [0, 1, 2]\n",
    "b = [3, 4]\n",
    "a = a + b\n",
    "print(a)"
   ]
  },
  {
   "cell_type": "code",
   "execution_count": 43,
   "id": "94753436-dc0f-43e1-b782-9471f07a85d8",
   "metadata": {},
   "outputs": [
    {
     "name": "stdout",
     "output_type": "stream",
     "text": [
      "[1, 2, 3, 4]\n",
      "[4, 3, 2, 1]\n"
     ]
    }
   ],
   "source": [
    "b = list(range(1,5))\n",
    "print(b)\n",
    "b.reverse()\n",
    "print(b)"
   ]
  },
  {
   "cell_type": "code",
   "execution_count": 49,
   "id": "11ee7b63-f07c-4794-932e-3067925ee7b6",
   "metadata": {},
   "outputs": [
    {
     "name": "stdout",
     "output_type": "stream",
     "text": [
      "None [4, 3, 2, 1, 0]\n"
     ]
    }
   ],
   "source": [
    "b = list(range(5))\n",
    "a = b.reverse()\n",
    "print(a, b)"
   ]
  },
  {
   "cell_type": "code",
   "execution_count": 47,
   "id": "555a9bc8-6958-46ab-8ae0-eb24714544ae",
   "metadata": {},
   "outputs": [
    {
     "name": "stdout",
     "output_type": "stream",
     "text": [
      "HELLO\n"
     ]
    }
   ],
   "source": [
    "print('hello'.upper())"
   ]
  },
  {
   "cell_type": "code",
   "execution_count": 53,
   "id": "37c499ea-c4f2-47a7-9ad7-dbcd3175c966",
   "metadata": {},
   "outputs": [
    {
     "name": "stdout",
     "output_type": "stream",
     "text": [
      "[4, 73, 23, 73, 69, 54, 12, 59, 38, 27, 41, 23, 8, 0, 10, 66, 77, 43, 71, 60, 59, 45, 26, 21, 89, 61, 50, 93, 26, 53, 92, 31, 92, 32, 83, 29, 14, 3, 60, 48, 49, 17, 42, 88, 73, 51, 75, 64, 56, 88, 51, 29, 32, 76, 31, 28, 88, 95, 68, 83, 59, 42, 94, 38, 56, 60, 93, 70, 28, 87, 43, 25, 47, 47, 93, 65, 8, 9, 25, 65, 7, 22, 79, 11, 27, 47, 26, 76, 22, 44, 84, 77, 100, 69, 55, 28, 35, 17, 65, 96]\n"
     ]
    }
   ],
   "source": [
    "import random\n",
    "a = list()\n",
    "for x in range(100):\n",
    "    a.append(random.randint(0,100))\n",
    "print(a)"
   ]
  },
  {
   "cell_type": "code",
   "execution_count": 55,
   "id": "46b28ec3-fada-494b-af8d-d3f3df2a254d",
   "metadata": {},
   "outputs": [
    {
     "name": "stdout",
     "output_type": "stream",
     "text": [
      "[93, 9, 98, 73, 83, 81, 83, 36, 34, 43, 3, 33, 69, 84, 65, 8, 91, 88, 80, 86, 79, 1, 47, 2, 50, 46, 93, 58, 17, 81, 79, 4, 88, 20, 90, 47, 33, 35, 50, 75, 34, 75, 38, 18, 27, 74, 68, 100, 5, 45, 32, 77, 96, 63, 5, 70, 31, 94, 12, 55, 28, 24, 12, 35, 62, 26, 18, 56, 34, 49, 60, 42, 49, 54, 76, 69, 37, 62, 79, 85, 85, 48, 14, 59, 59, 92, 63, 65, 65, 0, 26, 49, 29, 100, 72, 50, 80, 17, 16, 32]\n"
     ]
    }
   ],
   "source": [
    "import random\n",
    "a = [None] * 100\n",
    "for x in range(100):\n",
    "    a [x] = random.randint(0,100)\n",
    "print(a)"
   ]
  },
  {
   "cell_type": "code",
   "execution_count": 57,
   "id": "0edeb6b5-607f-4ee9-b0b6-d0b88cd67e01",
   "metadata": {},
   "outputs": [
    {
     "name": "stdout",
     "output_type": "stream",
     "text": [
      "================================================================================\n"
     ]
    }
   ],
   "source": [
    "print('=' * 80)"
   ]
  },
  {
   "cell_type": "code",
   "execution_count": 61,
   "id": "9e9436f3-7c39-46e2-97bf-1671b86ef431",
   "metadata": {},
   "outputs": [
    {
     "name": "stdout",
     "output_type": "stream",
     "text": [
      "[0, 1, 2, 3, 4, 5, 5, 8, 9, 12, 12, 14, 16, 17, 17, 18, 18, 20, 24, 26, 26, 27, 28, 29, 31, 32, 32, 33, 33, 34, 34, 34, 35, 35, 36, 37, 38, 42, 43, 45, 46, 47, 47, 48, 49, 49, 49, 50, 50, 50, 54, 55, 56, 58, 59, 59, 60, 62, 62, 63, 63, 65, 65, 65, 68, 69, 69, 70, 72, 73, 74, 75, 75, 76, 77, 79, 79, 79, 80, 80, 81, 81, 83, 83, 84, 85, 85, 86, 88, 88, 90, 91, 92, 93, 93, 94, 96, 98, 100, 100]\n",
      "[93, 9, 98, 73, 83, 81, 83, 36, 34, 43, 3, 33, 69, 84, 65, 8, 91, 88, 80, 86, 79, 1, 47, 2, 50, 46, 93, 58, 17, 81, 79, 4, 88, 20, 90, 47, 33, 35, 50, 75, 34, 75, 38, 18, 27, 74, 68, 100, 5, 45, 32, 77, 96, 63, 5, 70, 31, 94, 12, 55, 28, 24, 12, 35, 62, 26, 18, 56, 34, 49, 60, 42, 49, 54, 76, 69, 37, 62, 79, 85, 85, 48, 14, 59, 59, 92, 63, 65, 65, 0, 26, 49, 29, 100, 72, 50, 80, 17, 16, 32]\n"
     ]
    }
   ],
   "source": [
    "b = sorted(a)\n",
    "print(b)\n",
    "print(a)"
   ]
  },
  {
   "cell_type": "code",
   "execution_count": 63,
   "id": "1982fff2-3ea4-4b19-98b0-456aef4ac786",
   "metadata": {},
   "outputs": [
    {
     "data": {
      "text/plain": [
       "5050"
      ]
     },
     "execution_count": 63,
     "metadata": {},
     "output_type": "execute_result"
    }
   ],
   "source": [
    "sum(range(1,101))"
   ]
  },
  {
   "cell_type": "code",
   "execution_count": 69,
   "id": "757ec1a5-632a-4196-8bb8-c658e0764416",
   "metadata": {},
   "outputs": [
    {
     "name": "stdout",
     "output_type": "stream",
     "text": [
      "154\n"
     ]
    }
   ],
   "source": [
    "day = 3\n",
    "month = 6\n",
    "days_in_month = [31, 28, 31, 30, 31, 30, 31, 31, 30, 31, 30, 31]\n",
    "count = day + sum(days_in_month[0:month - 1])\n",
    "print(count)"
   ]
  },
  {
   "cell_type": "code",
   "execution_count": 71,
   "id": "f6f8cf90-5119-4cf7-b9ba-a8cc2f449f37",
   "metadata": {},
   "outputs": [
    {
     "data": {
      "text/plain": [
       "'A'"
      ]
     },
     "execution_count": 71,
     "metadata": {},
     "output_type": "execute_result"
    }
   ],
   "source": [
    "lut = 'D' * 60 + 'C' * 10 + 'B' * 20 + 'A' * 11\n",
    "lut[95]"
   ]
  },
  {
   "cell_type": "code",
   "execution_count": 77,
   "id": "c6212532-15f2-44b3-a698-df7ab34935a3",
   "metadata": {},
   "outputs": [
    {
     "name": "stdin",
     "output_type": "stream",
     "text": [
      "please input a score:  -1\n"
     ]
    },
    {
     "name": "stdout",
     "output_type": "stream",
     "text": [
      "Grade is A\n"
     ]
    }
   ],
   "source": [
    "score = eval(input('please input a score: '))\n",
    "print(f'Grade is {lut[score]}')"
   ]
  },
  {
   "cell_type": "code",
   "execution_count": 79,
   "id": "4c61d3ce-ba9c-49f9-945d-895768833ba9",
   "metadata": {},
   "outputs": [
    {
     "name": "stdout",
     "output_type": "stream",
     "text": [
      "[1, 2, 3, 4, 5]\n"
     ]
    }
   ],
   "source": [
    "a = list(range(1,5))\n",
    "a.append(5)\n",
    "print(a)"
   ]
  },
  {
   "cell_type": "code",
   "execution_count": 81,
   "id": "d7729698-737c-4e24-bcab-abe2b666e678",
   "metadata": {},
   "outputs": [
    {
     "name": "stdout",
     "output_type": "stream",
     "text": [
      "5\n"
     ]
    }
   ],
   "source": [
    "print(a.pop())"
   ]
  },
  {
   "cell_type": "code",
   "execution_count": 83,
   "id": "7186ebd4-90b5-4b7d-9402-a9ac37803805",
   "metadata": {},
   "outputs": [
    {
     "name": "stdout",
     "output_type": "stream",
     "text": [
      "[1, 2, 3, 4]\n"
     ]
    }
   ],
   "source": [
    "print(a)"
   ]
  },
  {
   "cell_type": "code",
   "execution_count": 87,
   "id": "0a7747ae-4fd7-442c-97ff-bba8be418806",
   "metadata": {},
   "outputs": [
    {
     "name": "stdin",
     "output_type": "stream",
     "text": [
      "Please input an expression:  {[}]\n"
     ]
    },
    {
     "name": "stdout",
     "output_type": "stream",
     "text": [
      "Not match.\n"
     ]
    }
   ],
   "source": [
    "expression = input('Please input an expression: ')\n",
    "my_stack = list()\n",
    "left_quotes = '{[('\n",
    "right_quotes = '}])'\n",
    "\n",
    "not_match = False\n",
    "for ch in expression:\n",
    "    if ch in left_quotes:\n",
    "        my_stack.append(ch)\n",
    "    elif ch in right_quotes:\n",
    "        if my_stack == []:\n",
    "            not_match = True\n",
    "            break\n",
    "        else:\n",
    "            left_ch = my_stack.pop()\n",
    "            if left_quotes.index(left_ch) != right_quotes.index(ch):\n",
    "                not_match = True\n",
    "                break\n",
    "if not_match or my_stack != []:\n",
    "    print('Not match.')\n",
    "else:\n",
    "    print('Match.')"
   ]
  },
  {
   "cell_type": "code",
   "execution_count": 97,
   "id": "3cba7d89-7a3d-4638-a33a-4ba132b94d23",
   "metadata": {},
   "outputs": [
    {
     "name": "stdout",
     "output_type": "stream",
     "text": [
      "[16747, 16833, 16686, 16568, 16523, 16643]\n"
     ]
    }
   ],
   "source": [
    "import random\n",
    "count = [0] * 6\n",
    "for _ in range(100000):\n",
    "    count[random.randint(0, 5)] += 1\n",
    "print(count)"
   ]
  },
  {
   "cell_type": "code",
   "execution_count": 105,
   "id": "cdcdc5f8-ea7a-4631-9a1e-7ad4c071ba3b",
   "metadata": {},
   "outputs": [
    {
     "data": {
      "image/png": "[encoded data removed]",
      "text/plain": [
       "<Figure size 640x480 with 1 Axes>"
      ]
     },
     "metadata": {},
     "output_type": "display_data"
    }
   ],
   "source": [
    "import random\n",
    "count = [0] * 6\n",
    "portions = [[], [], [], [], [], []]\n",
    "for j in range(0, 1000):\n",
    "    for i in range(0, 50):\n",
    "        count[random.randint(0, 5)] += 1\n",
    "    for i in range(0, 6):\n",
    "        portions[i].append(count[i] / sum(count))\n",
    "\n",
    "import matplotlib.pyplot as plt\n",
    "fig, ax = plt.subplots()\n",
    "x = list(range(1000))\n",
    "plt.plot(x, portions[0], 'r', x, portions[1], 'b', x, portions[2], 'g', x, portions[3], '', x, portions[4], '', x, portions[5], '')\n",
    "plt.show()"
   ]
  },
  {
   "cell_type": "code",
   "execution_count": 109,
   "id": "56a8cbd9-016d-46c4-be5e-edf2b7b43bf5",
   "metadata": {},
   "outputs": [
    {
     "name": "stdout",
     "output_type": "stream",
     "text": [
      "[1, 4, 9, 16, 25, 36, 49, 64, 81]\n"
     ]
    }
   ],
   "source": [
    "a = list(range(1,10))\n",
    "b = list()\n",
    "for x in a:\n",
    "    b.append(x * x)\n",
    "print(b)"
   ]
  },
  {
   "cell_type": "code",
   "execution_count": 111,
   "id": "477e5000-4ee3-4bf1-9f6e-9ba49af65a07",
   "metadata": {},
   "outputs": [
    {
     "data": {
      "text/plain": [
       "[1, 4, 9, 16, 25, 36, 49, 64, 81]"
      ]
     },
     "execution_count": 111,
     "metadata": {},
     "output_type": "execute_result"
    }
   ],
   "source": [
    "b = [x * x for x in a]\n",
    "b"
   ]
  },
  {
   "cell_type": "code",
   "execution_count": 125,
   "id": "b7bc5989-6ec1-45b8-b650-a4230aea87d6",
   "metadata": {},
   "outputs": [
    {
     "name": "stdout",
     "output_type": "stream",
     "text": [
      "[-1.293616490074407, -0.8911298528068956, -0.34161483074470034, -1.130493086783916, -1.5875640402056268, 1.4736384148610593, -0.6103361729084819, -0.2402661438417627, 0.059490913178288904, -0.05675828129653086, 0.8171999995461239, 1.1746106489694306, 0.790603611669748, 0.40663900128697494, -1.9931382536071496, -1.7344010834926837, 0.29304897776408917, -1.2157958933364763, -0.40223824333363667, -1.9244887327508313, -0.535854067006469, -0.9131397898449769, 0.8114449399692102, 0.9630750059557027, -1.1495911382237507, 0.2326124968570629, -1.2554575295255774, 0.6393806238499723, 1.1614748353197462, 1.5868560084660803, -0.5719240998699235, 0.31630037611328676, 0.15513092394410524, 0.7614958442776177, -0.5611070778078252, -0.355874697357372, -0.09971404946369834, -0.8987661092279567, -0.3183789188021402, -0.6908086962600918, -1.0677033769281599, 1.299571880446457, -0.7552436395115564, 1.9608955543373776, -0.28706782740561737, 1.0062630404554918, 1.0385615804371233, 0.17217938630047264, 0.0564481131368556, 0.037365704453191435, 0.3182274750393007, 1.7032368207667132, 1.0055745401427754, 0.6573611306063843, 0.5837751747118608, -0.9343614606695199, -1.0850542124891112, 0.5728194895456497, -0.4177404325097047, 0.6637854384259094, -0.22873596230031162, -1.0067044131218295, 1.8005230888527364, -0.4512869488746509, -0.4723422949240708, -0.50689452963686, 0.5403832341202568, -0.3621318248817264, 0.10734794991908654, -0.544108413411909, -0.5280789839716615, 0.5586883831948815, 0.2300168797143797, 0.4076454010202028, -0.6034945659251296, 0.7634817909864928, 1.46172766399208, 0.4605247634211439, -0.11394931801426045, -1.568999862829902, 0.012665075256466585, -0.2879016999372837, -0.6565655242643116, -0.013379191929981913, -0.694107324606837, 1.3366805332765028, -0.3513800027264549, 0.21883812844163608, -0.4410448859179012, 0.15979204820693937, -0.6619784952590586, 0.36494442094464874, -0.7499205573199431, -0.5765490094276531, -0.2224985343364943, -0.9779649728522427, -0.08848406046336528, 0.09415040008354733, -0.9401625689948668, 0.5518617236415622]\n"
     ]
    }
   ],
   "source": [
    "import random\n",
    "a = [random.gauss(0, 1) for _ in range(100)]\n",
    "print(a)"
   ]
  },
  {
   "cell_type": "code",
   "execution_count": 123,
   "id": "c7e1f6f6-8673-4e9c-bed9-b2f10c5c03d8",
   "metadata": {},
   "outputs": [
    {
     "name": "stdout",
     "output_type": "stream",
     "text": [
      "[3, 6, 9, 12, 15, 18, 21, 24, 27, 30, 33, 36, 39, 42, 45, 48, 51, 54, 57, 60, 63, 66, 69, 72, 75, 78, 81, 84, 87, 90, 93, 96, 99]\n"
     ]
    }
   ],
   "source": [
    "a = [x for x in range(1,100) if x % 3 == 0]\n",
    "print(a)"
   ]
  },
  {
   "cell_type": "code",
   "execution_count": null,
   "id": "28521b1e-47c1-4822-bb76-ac354b108f7c",
   "metadata": {},
   "outputs": [],
   "source": []
  }
 ],
 "metadata": {
  "kernelspec": {
   "display_name": "Python 3 (ipykernel)",
   "language": "python",
   "name": "python3"
  },
  "language_info": {
   "codemirror_mode": {
    "name": "ipython",
    "version": 3
   },
   "file_extension": ".py",
   "mimetype": "text/x-python",
   "name": "python",
   "nbconvert_exporter": "python",
   "pygments_lexer": "ipython3",
   "version": "3.12.4"
  }
 },
 "nbformat": 4,
 "nbformat_minor": 5
}
